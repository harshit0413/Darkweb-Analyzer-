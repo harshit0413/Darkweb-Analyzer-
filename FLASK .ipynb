    {
      "cell_type": "markdown",
      "metadata": {
        "id": "uez-GdA5JmRy"
      },
      "source": [
        "# **Flask**"
      ]
    },
    {
      "cell_type": "code",
      "execution_count": 17,
      "metadata": {
        "colab": {
          "base_uri": "https://localhost:8080/"
        },
        "id": "wZGQsGsULAgI",
        "outputId": "54fc7d4a-82f0-462f-e8d4-92afc990b4bc"
      },
      "outputs": [
        {
          "name": "stdout",
          "output_type": "stream",
          "text": [
            "Requirement already satisfied: flask in /usr/local/lib/python3.10/dist-packages (2.2.5)\n",
            "Requirement already satisfied: Werkzeug>=2.2.2 in /usr/local/lib/python3.10/dist-packages (from flask) (3.0.1)\n",
            "Requirement already satisfied: Jinja2>=3.0 in /usr/local/lib/python3.10/dist-packages (from flask) (3.1.3)\n",
            "Requirement already satisfied: itsdangerous>=2.0 in /usr/local/lib/python3.10/dist-packages (from flask) (2.1.2)\n",
            "Requirement already satisfied: click>=8.0 in /usr/local/lib/python3.10/dist-packages (from flask) (8.1.7)\n",
            "Requirement already satisfied: MarkupSafe>=2.0 in /usr/local/lib/python3.10/dist-packages (from Jinja2>=3.0->flask) (2.1.5)\n",
            "Requirement already satisfied: scapy in /usr/local/lib/python3.10/dist-packages (2.5.0)\n"
          ]
        }
      ],
      "source": [
        "!pip install flask\n",
        "!pip install scapy"
      ]
    },
    {
      "cell_type": "code",
      "execution_count": 18,
      "metadata": {
        "colab": {
          "base_uri": "https://localhost:8080/"
        },
        "id": "bJGtJ7SwA4eB",
        "outputId": "f8e2e14b-3865-4de4-935f-8342ee9c59e0"
      },
      "outputs": [
        {
          "name": "stdout",
          "output_type": "stream",
          "text": [
            "Requirement already satisfied: flask in /usr/local/lib/python3.10/dist-packages (2.2.5)\n",
            "Requirement already satisfied: flask-ngrok in /usr/local/lib/python3.10/dist-packages (0.0.25)\n",
            "Requirement already satisfied: Werkzeug>=2.2.2 in /usr/local/lib/python3.10/dist-packages (from flask) (3.0.1)\n",
            "Requirement already satisfied: Jinja2>=3.0 in /usr/local/lib/python3.10/dist-packages (from flask) (3.1.3)\n",
            "Requirement already satisfied: itsdangerous>=2.0 in /usr/local/lib/python3.10/dist-packages (from flask) (2.1.2)\n",
            "Requirement already satisfied: click>=8.0 in /usr/local/lib/python3.10/dist-packages (from flask) (8.1.7)\n",
            "Requirement already satisfied: requests in /usr/local/lib/python3.10/dist-packages (from flask-ngrok) (2.31.0)\n",
            "Requirement already satisfied: MarkupSafe>=2.0 in /usr/local/lib/python3.10/dist-packages (from Jinja2>=3.0->flask) (2.1.5)\n",
            "Requirement already satisfied: charset-normalizer<4,>=2 in /usr/local/lib/python3.10/dist-packages (from requests->flask-ngrok) (3.3.2)\n",
            "Requirement already satisfied: idna<4,>=2.5 in /usr/local/lib/python3.10/dist-packages (from requests->flask-ngrok) (3.6)\n",
            "Requirement already satisfied: urllib3<3,>=1.21.1 in /usr/local/lib/python3.10/dist-packages (from requests->flask-ngrok) (2.0.7)\n",
            "Requirement already satisfied: certifi>=2017.4.17 in /usr/local/lib/python3.10/dist-packages (from requests->flask-ngrok) (2024.2.2)\n"
          ]
        }
      ],
      "source": [
        "!pip install flask flask-ngrok\n"
      ]
    },
    {
      "cell_type": "code",
      "execution_count": 19,
      "metadata": {
        "colab": {
          "base_uri": "https://localhost:8080/"
        },
        "id": "xgXYpgkdLAWo",
        "outputId": "725065a9-57aa-4aa1-efb8-af9d48f8c433"
      },
      "outputs": [
        {
          "name": "stdout",
          "output_type": "stream",
          "text": [
            "Requirement already satisfied: flask-ngrok in /usr/local/lib/python3.10/dist-packages (0.0.25)\n",
            "Requirement already satisfied: Flask>=0.8 in /usr/local/lib/python3.10/dist-packages (from flask-ngrok) (2.2.5)\n",
            "Requirement already satisfied: requests in /usr/local/lib/python3.10/dist-packages (from flask-ngrok) (2.31.0)\n",
            "Requirement already satisfied: Werkzeug>=2.2.2 in /usr/local/lib/python3.10/dist-packages (from Flask>=0.8->flask-ngrok) (3.0.1)\n",
            "Requirement already satisfied: Jinja2>=3.0 in /usr/local/lib/python3.10/dist-packages (from Flask>=0.8->flask-ngrok) (3.1.3)\n",
            "Requirement already satisfied: itsdangerous>=2.0 in /usr/local/lib/python3.10/dist-packages (from Flask>=0.8->flask-ngrok) (2.1.2)\n",
            "Requirement already satisfied: click>=8.0 in /usr/local/lib/python3.10/dist-packages (from Flask>=0.8->flask-ngrok) (8.1.7)\n",
            "Requirement already satisfied: charset-normalizer<4,>=2 in /usr/local/lib/python3.10/dist-packages (from requests->flask-ngrok) (3.3.2)\n",
            "Requirement already satisfied: idna<4,>=2.5 in /usr/local/lib/python3.10/dist-packages (from requests->flask-ngrok) (3.6)\n",
            "Requirement already satisfied: urllib3<3,>=1.21.1 in /usr/local/lib/python3.10/dist-packages (from requests->flask-ngrok) (2.0.7)\n",
            "Requirement already satisfied: certifi>=2017.4.17 in /usr/local/lib/python3.10/dist-packages (from requests->flask-ngrok) (2024.2.2)\n",
            "Requirement already satisfied: MarkupSafe>=2.0 in /usr/local/lib/python3.10/dist-packages (from Jinja2>=3.0->Flask>=0.8->flask-ngrok) (2.1.5)\n"
          ]
        }
      ],
      "source": [
        "!pip install flask-ngrok"
      ]
    },
    {
      "cell_type": "code",
      "execution_count": 20,
      "metadata": {
        "colab": {
          "base_uri": "https://localhost:8080/"
        },
        "id": "YWJUBD43LAa5",
        "outputId": "47b1ac6e-476b-4ab7-8bf4-5e4534bb5169"
      },
      "outputs": [
        {
          "name": "stdout",
          "output_type": "stream",
          "text": [
            "Requirement already satisfied: pyngrok in /usr/local/lib/python3.10/dist-packages (7.1.2)\n",
            "Requirement already satisfied: PyYAML>=5.1 in /usr/local/lib/python3.10/dist-packages (from pyngrok) (6.0.1)\n"
          ]
        }
      ],
      "source": [
        "!pip install pyngrok"
      ]
    },
    {
      "cell_type": "code",
      "execution_count": 21,
      "metadata": {
        "colab": {
          "base_uri": "https://localhost:8080/"
        },
        "id": "TziZowv1LANU",
        "outputId": "2e0201f0-35ba-46c7-c145-568f0094f234"
      },
      "outputs": [
        {
          "name": "stdout",
          "output_type": "stream",
          "text": [
            "Authtoken saved to configuration file: C:\\Users\\hp\\AppData\\Local/ngrok/ngrok.yml\n"
          ]
        }
      ],
      "source": [
        "!ngrok authtoken '2cpp1zJAcAZMCHxMkJkMa0cx3yL_6MW1WjyGsbC6JCuEFmm8B'\n"
      ]
    },
    {
      "cell_type": "code",
      "execution_count": 26,
      "metadata": {
        "colab": {
          "base_uri": "https://localhost:8080/"
        },
        "id": "GxD4MASERl75",
        "outputId": "de9974ae-be28-42ae-c933-a8a74dae4551"
      },
      "outputs": [
        {
          "name": "stdout",
          "output_type": "stream",
          "text": [
            "Collecting flask-cors\n",
            "  Downloading Flask_Cors-4.0.0-py2.py3-none-any.whl (14 kB)\n",
            "Requirement already satisfied: Flask>=0.9 in /usr/local/lib/python3.10/dist-packages (from flask-cors) (2.2.5)\n",
            "Requirement already satisfied: Werkzeug>=2.2.2 in /usr/local/lib/python3.10/dist-packages (from Flask>=0.9->flask-cors) (3.0.1)\n",
            "Requirement already satisfied: Jinja2>=3.0 in /usr/local/lib/python3.10/dist-packages (from Flask>=0.9->flask-cors) (3.1.3)\n",
            "Requirement already satisfied: itsdangerous>=2.0 in /usr/local/lib/python3.10/dist-packages (from Flask>=0.9->flask-cors) (2.1.2)\n",
            "Requirement already satisfied: click>=8.0 in /usr/local/lib/python3.10/dist-packages (from Flask>=0.9->flask-cors) (8.1.7)\n",
            "Requirement already satisfied: MarkupSafe>=2.0 in /usr/local/lib/python3.10/dist-packages (from Jinja2>=3.0->Flask>=0.9->flask-cors) (2.1.5)\n",
            "Installing collected packages: flask-cors\n",
            "Successfully installed flask-cors-4.0.0\n"
          ]
        }
      ],
      "source": [
        "pip install flask-cors\n"
      ]
    },
    {
      "cell_type": "code",
      "execution_count": null,
      "metadata": {
        "id": "0-GuSerlSRv2"
      },
      "outputs": [
        {
          "name": "stderr",
          "output_type": "stream",
          "text": [
            "t=2024-02-25T06:06:52+0530 lvl=eror msg=\"heartbeat timeout, terminating session\" obj=tunnels.session obj=csess id=b4d319fc75a5 clientid=6c1748ce15e8c4ade5984fae366bafb3\n",
            "t=2024-02-25T06:06:52+0530 lvl=eror msg=\"session closed, starting reconnect loop\" obj=tunnels.session obj=csess id=08ab938f3a88 err=\"session closed\"\n",
            "t=2024-02-25T06:06:52+0530 lvl=eror msg=\"failed to reconnect session\" obj=tunnels.session obj=csess id=08ab938f3a88 err=\"failed to dial ngrok server with address \\\"connect.ngrok-agent.com:443\\\": dial tcp: lookup connect.ngrok-agent.com: no such host\"\n",
            "t=2024-02-25T06:06:53+0530 lvl=eror msg=\"failed to reconnect session\" obj=tunnels.session obj=csess id=08ab938f3a88 err=\"failed to dial ngrok server with address \\\"connect.ngrok-agent.com:443\\\": dial tcp: lookup connect.ngrok-agent.com: no such host\"\n",
            "t=2024-02-25T06:06:54+0530 lvl=eror msg=\"failed to reconnect session\" obj=tunnels.session obj=csess id=08ab938f3a88 err=\"failed to dial ngrok server with address \\\"connect.ngrok-agent.com:443\\\": dial tcp: lookup connect.ngrok-agent.com: no such host\"\n",
            "t=2024-02-25T06:06:56+0530 lvl=eror msg=\"failed to reconnect session\" obj=tunnels.session obj=csess id=08ab938f3a88 err=\"failed to dial ngrok server with address \\\"connect.ngrok-agent.com:443\\\": dial tcp: lookup connect.ngrok-agent.com: no such host\"\n",
            "t=2024-02-25T06:07:00+0530 lvl=eror msg=\"failed to reconnect session\" obj=tunnels.session obj=csess id=08ab938f3a88 err=\"failed to dial ngrok server with address \\\"connect.ngrok-agent.com:443\\\": dial tcp: lookup connect.ngrok-agent.com: no such host\"\n",
            "t=2024-02-25T06:07:08+0530 lvl=eror msg=\"failed to reconnect session\" obj=tunnels.session obj=csess id=08ab938f3a88 err=\"failed to dial ngrok server with address \\\"connect.ngrok-agent.com:443\\\": dial tcp: lookup connect.ngrok-agent.com: no such host\"\n",
            "t=2024-02-25T06:07:24+0530 lvl=eror msg=\"failed to reconnect session\" obj=tunnels.session obj=csess id=08ab938f3a88 err=\"failed to dial ngrok server with address \\\"connect.ngrok-agent.com:443\\\": dial tcp: lookup connect.ngrok-agent.com: no such host\"\n",
            "t=2024-02-25T06:07:55+0530 lvl=eror msg=\"failed to reconnect session\" obj=tunnels.session obj=csess id=08ab938f3a88 err=\"failed to dial ngrok server with address \\\"connect.ngrok-agent.com:443\\\": dial tcp: lookup connect.ngrok-agent.com: no such host\"\n",
            "t=2024-02-25T06:08:25+0530 lvl=eror msg=\"failed to reconnect session\" obj=tunnels.session obj=csess id=08ab938f3a88 err=\"failed to dial ngrok server with address \\\"connect.ngrok-agent.com:443\\\": dial tcp: lookup connect.ngrok-agent.com: no such host\"\n"
          ]
        }
      ],
      "source": [
        "from pyngrok import ngrok\n",
        "\n",
        "# Setup a tunnel to the Flask application on port 5000\n",
        "ngrok_tunnel = ngrok.connect(5000)\n"
      ]
    },
    {
      "cell_type": "code",
      "execution_count": 35,
      "metadata": {
        "colab": {
          "base_uri": "https://localhost:8080/"
        },
        "id": "wRvc7UpkA4bg",
        "outputId": "dc1cbc16-42be-4681-9fe5-b85ccb641d44"
      },
      "outputs": [
        {
          "name": "stdout",
          "output_type": "stream",
          "text": [
            " * Serving Flask app '__main__'\n",
            " * Debug mode: on\n"
          ]
        },
        {
          "name": "stderr",
          "output_type": "stream",
          "text": [
            "WARNING: This is a development server. Do not use it in a production deployment. Use a production WSGI server instead.\n",
            " * Running on http://127.0.0.1:5000\n",
            "Press CTRL+C to quit\n"
          ]
        }
      ],
      "source": [
        "from flask import Flask, request, jsonify, render_template\n",
        "from werkzeug.utils import secure_filename\n",
        "from flask_cors import CORS\n",
        "import os\n",
        "import numpy as np\n",
        "import pandas as pd\n",
        "from scapy.all import rdpcap, IP, TCP\n",
        "import xgboost as xgb\n",
        "\n",
        "app = Flask(__name__, template_folder='.')\n",
        "app.config['UPLOAD_FOLDER'] = 'uploads'\n",
        "os.makedirs(app.config['UPLOAD_FOLDER'], exist_ok=True)\n",
        "CORS(app)\n",
        "\n",
        "MODEL_PATH = './xgb_model.json'\n",
        "xgb_model = xgb.XGBClassifier()\n",
        "xgb_model.load_model(MODEL_PATH)\n",
        "\n",
        "def preprocess_pcap(file_path):\n",
        "    packets = rdpcap(file_path)\n",
        "    features = {\n",
        "        'Flow Duration': 0.0,\n",
        "        'Total Fwd Packet': 0,\n",
        "        'Total Bwd packets': 0,\n",
        "        'Packet Length Min': np.inf,\n",
        "        'Packet Length Mean': 0.0,\n",
        "        'Fwd IAT Total': 0.0,\n",
        "        'Flow IAT Min': np.inf,\n",
        "        'Flow IAT Max': 0.0,\n",
        "        'Fwd IAT Mean': 0.0,\n",
        "        'Flow Packets/s': 0.0,\n",
        "        'Flow Bytes/s': 0.0,\n",
        "        'Idle Min': np.inf,\n",
        "        'Idle Max': 0.0,\n",
        "        'Idle Mean': 0.0,\n",
        "        'Idle Std': 0.0,\n",
        "        'FWD Init Win Bytes': 0,\n",
        "        'Bwd Init Win Bytes': 0,\n",
        "        'ACK Flag Count': 0\n",
        "    }\n",
        "\n",
        "    if not packets:\n",
        "        return pd.DataFrame(features, index=[0])\n",
        "\n",
        "    start_times = []\n",
        "    packet_lengths = []\n",
        "    iats = []\n",
        "    total_bytes = 0\n",
        "\n",
        "    for packet in packets:\n",
        "        if IP in packet and TCP in packet:\n",
        "            packet_length = len(packet)\n",
        "            packet_lengths.append(packet_length)\n",
        "            total_bytes += packet_length\n",
        "\n",
        "            if 'S' in packet[TCP].flags:\n",
        "                if features['FWD Init Win Bytes'] == 0:\n",
        "                    features['FWD Init Win Bytes'] = packet[TCP].window\n",
        "                else:\n",
        "                    features['Bwd Init Win Bytes'] = packet[TCP].window\n",
        "\n",
        "            if 'A' in packet[TCP].flags:\n",
        "                features['ACK Flag Count'] += 1\n",
        "\n",
        "            start_times.append(float(packet.time))\n",
        "\n",
        "            if len(start_times) > 1:\n",
        "                iat = start_times[-1] - start_times[-2]\n",
        "                iats.append(iat)\n",
        "\n",
        "    features['Flow Duration'] = max(start_times) - min(start_times)\n",
        "    features['Total Fwd Packet'] = len([p for p in packets if IP in p and p[IP].src < p[IP].dst])\n",
        "    features['Total Bwd packets'] = len([p for p in packets if IP in p and p[IP].src > p[IP].dst])\n",
        "    features['Packet Length Min'] = min(packet_lengths)\n",
        "    features['Packet Length Mean'] = np.mean(packet_lengths) if packet_lengths else 0\n",
        "    features['Fwd IAT Total'] = sum(iats)\n",
        "    features['Flow IAT Min'] = min(iats) if iats else 0\n",
        "    features['Flow IAT Max'] = max(iats) if iats else 0\n",
        "    features['Fwd IAT Mean'] = np.mean(iats) if iats else 0\n",
        "    features['Flow Packets/s'] = len(packets) / features['Flow Duration'] if features['Flow Duration'] else 0\n",
        "    features['Flow Bytes/s'] = total_bytes / features['Flow Duration'] if features['Flow Duration'] else 0\n",
        "\n",
        "    df_features = pd.DataFrame([features])\n",
        "    df_features.replace([np.inf, -np.inf], np.nan, inplace=True)\n",
        "    df_features.fillna(0, inplace=True)\n",
        "    return df_features\n",
        "\n",
        "def predict_darknet(file_path):\n",
        "    try:\n",
        "        df_features = preprocess_pcap(file_path)\n",
        "        predictions = xgb_model.predict(df_features)\n",
        "        return predictions.tolist()  # Convert numpy array to list for JSON serialization\n",
        "    except Exception as e:\n",
        "        print(\"Error predicting:\", e)\n",
        "        return None\n",
        "\n",
        "@app.route(\"/\")\n",
        "def home():\n",
        "    return render_template(\"index.html\")\n",
        "\n",
        "@app.route('/predict', methods=['POST'])\n",
        "def predict():\n",
        "    try:\n",
        "        if 'file' not in request.files:\n",
        "            return jsonify({'error': 'No file part'}), 400\n",
        "\n",
        "        file = request.files['file']\n",
        "        if file.filename == '':\n",
        "            return jsonify({'error': 'No selected file'}), 400\n",
        "\n",
        "        filename = secure_filename(file.filename)\n",
        "        file_path = os.path.join(app.config['UPLOAD_FOLDER'], filename)\n",
        "        file.save(file_path)\n",
        "\n",
        "        predictions = predict_darknet(file_path)\n",
        "        if predictions is not None:\n",
        "            return jsonify({'prediction': predictions})\n",
        "        else:\n",
        "            return jsonify({'error': 'Failed to make predictions'}), 500\n",
        "    except Exception as e:\n",
        "        print(\"Error processing file:\", e)\n",
        "        return jsonify({'error': 'Failed to process the file. Please try again.'}), 500\n",
        "\n",
        "if __name__ == \"__main__\":\n",
        "    app.run(debug=True, use_reloader=False)\n"
      ]
    },
    {
      "cell_type": "code",
      "execution_count": 37,
      "metadata": {
        "id": "-Z58FnReA4VL"
      },
      "outputs": [
        {
          "ename": "TypeError",
          "evalue": "RestAPIInterface() takes no arguments",
          "output_type": "error",
          "traceback": [
            "\u001b[1;31m---------------------------------------------------------------------------\u001b[0m",
            "\u001b[1;31mTypeError\u001b[0m                                 Traceback (most recent call last)",
            "Cell \u001b[1;32mIn[37], line 50\u001b[0m\n\u001b[0;32m     47\u001b[0m \u001b[38;5;28;01mfrom\u001b[39;00m \u001b[38;5;21;01mflask\u001b[39;00m \u001b[38;5;28;01mimport\u001b[39;00m Flask, request, jsonify\n\u001b[0;32m     49\u001b[0m app \u001b[38;5;241m=\u001b[39m Flask(\u001b[38;5;18m__name__\u001b[39m)\n\u001b[1;32m---> 50\u001b[0m api \u001b[38;5;241m=\u001b[39m \u001b[43mRestAPIInterface\u001b[49m\u001b[43m(\u001b[49m\u001b[38;5;124;43m'\u001b[39;49m\u001b[38;5;124;43m/path/to/model.json\u001b[39;49m\u001b[38;5;124;43m'\u001b[39;49m\u001b[43m)\u001b[49m\n\u001b[0;32m     51\u001b[0m \u001b[38;5;129m@app\u001b[39m\u001b[38;5;241m.\u001b[39mroute(\u001b[38;5;124m'\u001b[39m\u001b[38;5;124m/predict\u001b[39m\u001b[38;5;124m'\u001b[39m, methods\u001b[38;5;241m=\u001b[39m[\u001b[38;5;124m'\u001b[39m\u001b[38;5;124mPOST\u001b[39m\u001b[38;5;124m'\u001b[39m])\n\u001b[0;32m     52\u001b[0m \u001b[38;5;28;01mdef\u001b[39;00m \u001b[38;5;21mpredict_route\u001b[39m():\n\u001b[0;32m     53\u001b[0m     file \u001b[38;5;241m=\u001b[39m request\u001b[38;5;241m.\u001b[39mfiles[\u001b[38;5;124m'\u001b[39m\u001b[38;5;124mfile\u001b[39m\u001b[38;5;124m'\u001b[39m]\n",
            "\u001b[1;31mTypeError\u001b[0m: RestAPIInterface() takes no arguments"
          ]
        }
      ],
      "source": [
        "# Pseudocode for REST API design\n",
        "\n",
        "# Endpoint: /predict\n",
        "# Method: POST\n",
        "# Description: Receives a file upload and returns predictions from an XGBoost model.\n",
        "\n",
        "# Define the REST API interface\n",
        "class RestAPIInterface:\n",
        "    \n",
        "    # Constructor to load the XGBoost model\n",
        "    def _init_(self, model_path):\n",
        "        self.model = self.load_model(model_path)\n",
        "    \n",
        "    # Method to load the model\n",
        "    def load_model(self, model_path):\n",
        "        # Load the XGBoost model\n",
        "        model = xgb.XGBClassifier()\n",
        "        model.load_model(model_path)\n",
        "        return model\n",
        "    \n",
        "    # Method to preprocess pcap file and extract features\n",
        "    def preprocess_pcap(self, file_path):\n",
        "        # Preprocessing logic here\n",
        "        pass\n",
        "    \n",
        "    # Method to predict using the preprocessed data\n",
        "    def predict_darknet(self, file_path):\n",
        "        features = self.preprocess_pcap(file_path)\n",
        "        # Predict and return results\n",
        "        pass\n",
        "    \n",
        "    # Endpoint to handle file upload and prediction\n",
        "    def predict(self, file):\n",
        "        # Logic to handle file upload\n",
        "        # Logic to save the file\n",
        "        file_path = self.save_file(file)\n",
        "        \n",
        "        # Make prediction\n",
        "        predictions = self.predict_darknet(file_path)\n",
        "        \n",
        "        # Logic to return the prediction result\n",
        "        return predictions\n",
        "\n",
        "# This interface would be used by a web framework (like Flask, Django, FastAPI) to handle requests\n",
        "# and responses. For example, in Flask, you would have:\n",
        "\n",
        "from flask import Flask, request, jsonify\n",
        "\n",
        "app = Flask(__name__)\n",
        "api = RestAPIInterface('/path/to/model.json')\n",
        "@app.route('/predict', methods=['POST'])\n",
        "def predict_route():\n",
        "    file = request.files['file']\n",
        "    predictions = api.predict(file)\n",
        "    return jsonify(predictions)"
      ]
    },
    {
      "cell_type": "code",
      "execution_count": null,
      "metadata": {
        "id": "jSHjuNJACCEz"
      },
      "outputs": [],
      "source": []
    },
    {
      "cell_type": "code",
      "execution_count": null,
      "metadata": {
        "id": "2zTLsDaSCCBx"
      },
      "outputs": [],
      "source": []
    },
    {
      "cell_type": "code",
      "execution_count": null,
      "metadata": {
        "id": "2ws0qiFUCB-S"
      },
      "outputs": [],
      "source": []
    },
    {
      "cell_type": "code",
      "execution_count": null,
      "metadata": {
        "id": "r0_vnXYhCB7z"
      },
      "outputs": [],
      "source": []
    },
    {
      "cell_type": "code",
      "execution_count": null,
      "metadata": {
        "id": "Muy8S63wCB5E"
      },
      "outputs": [],
      "source": []
    },
    {
      "cell_type": "code",
      "execution_count": null,
      "metadata": {
        "id": "88JRl4aPA4SA"
      },
      "outputs": [],
      "source": []
    }
  ],
  "metadata": {
    "colab": {
      "provenance": []
    },
    "kernelspec": {
      "display_name": "Python 3",
      "name": "python3"
    },
    "language_info": {
      "codemirror_mode": {
        "name": "ipython",
        "version": 3
      },
      "file_extension": ".py",
      "mimetype": "text/x-python",
      "name": "python",
      "nbconvert_exporter": "python",
      "pygments_lexer": "ipython3",
      "version": "3.11.8"
    }
  },
  "nbformat": 4,
  "nbformat_minor": 0
}
